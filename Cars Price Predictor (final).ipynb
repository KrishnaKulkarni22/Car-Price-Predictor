{
 "cells": [
  {
   "cell_type": "code",
   "execution_count": 31,
   "id": "bbb7a201",
   "metadata": {},
   "outputs": [],
   "source": [
    "## Importing the Libraries\n",
    "\n",
    "import pandas as pd\n",
    "import numpy as np\n",
    "import seaborn as sns\n",
    "import matplotlib.pyplot as plt\n",
    "\n",
    "import warnings\n",
    "\n",
    "warnings.filterwarnings('ignore')"
   ]
  },
  {
   "cell_type": "code",
   "execution_count": 32,
   "id": "0b35fd3a",
   "metadata": {},
   "outputs": [
    {
     "data": {
      "text/html": [
       "<div>\n",
       "<style scoped>\n",
       "    .dataframe tbody tr th:only-of-type {\n",
       "        vertical-align: middle;\n",
       "    }\n",
       "\n",
       "    .dataframe tbody tr th {\n",
       "        vertical-align: top;\n",
       "    }\n",
       "\n",
       "    .dataframe thead th {\n",
       "        text-align: right;\n",
       "    }\n",
       "</style>\n",
       "<table border=\"1\" class=\"dataframe\">\n",
       "  <thead>\n",
       "    <tr style=\"text-align: right;\">\n",
       "      <th></th>\n",
       "      <th>Make</th>\n",
       "      <th>Model</th>\n",
       "      <th>Type</th>\n",
       "      <th>Origin</th>\n",
       "      <th>DriveTrain</th>\n",
       "      <th>MSRP</th>\n",
       "      <th>Invoice</th>\n",
       "      <th>EngineSize</th>\n",
       "      <th>Cylinders</th>\n",
       "      <th>Horsepower</th>\n",
       "      <th>MPG_City</th>\n",
       "      <th>MPG_Highway</th>\n",
       "      <th>Weight</th>\n",
       "      <th>Wheelbase</th>\n",
       "      <th>Length</th>\n",
       "    </tr>\n",
       "  </thead>\n",
       "  <tbody>\n",
       "    <tr>\n",
       "      <th>0</th>\n",
       "      <td>Acura</td>\n",
       "      <td>MDX</td>\n",
       "      <td>SUV</td>\n",
       "      <td>Asia</td>\n",
       "      <td>All</td>\n",
       "      <td>36945</td>\n",
       "      <td>33337</td>\n",
       "      <td>3.5</td>\n",
       "      <td>6.0</td>\n",
       "      <td>265</td>\n",
       "      <td>17</td>\n",
       "      <td>23</td>\n",
       "      <td>4451</td>\n",
       "      <td>106</td>\n",
       "      <td>189</td>\n",
       "    </tr>\n",
       "    <tr>\n",
       "      <th>1</th>\n",
       "      <td>Acura</td>\n",
       "      <td>RSX Type S 2dr</td>\n",
       "      <td>Sedan</td>\n",
       "      <td>Asia</td>\n",
       "      <td>Front</td>\n",
       "      <td>23820</td>\n",
       "      <td>21761</td>\n",
       "      <td>2.0</td>\n",
       "      <td>4.0</td>\n",
       "      <td>200</td>\n",
       "      <td>24</td>\n",
       "      <td>31</td>\n",
       "      <td>2778</td>\n",
       "      <td>101</td>\n",
       "      <td>172</td>\n",
       "    </tr>\n",
       "    <tr>\n",
       "      <th>2</th>\n",
       "      <td>Acura</td>\n",
       "      <td>TSX 4dr</td>\n",
       "      <td>Sedan</td>\n",
       "      <td>Asia</td>\n",
       "      <td>Front</td>\n",
       "      <td>26990</td>\n",
       "      <td>24647</td>\n",
       "      <td>2.4</td>\n",
       "      <td>4.0</td>\n",
       "      <td>200</td>\n",
       "      <td>22</td>\n",
       "      <td>29</td>\n",
       "      <td>3230</td>\n",
       "      <td>105</td>\n",
       "      <td>183</td>\n",
       "    </tr>\n",
       "    <tr>\n",
       "      <th>3</th>\n",
       "      <td>Acura</td>\n",
       "      <td>TL 4dr</td>\n",
       "      <td>Sedan</td>\n",
       "      <td>Asia</td>\n",
       "      <td>Front</td>\n",
       "      <td>33195</td>\n",
       "      <td>30299</td>\n",
       "      <td>3.2</td>\n",
       "      <td>6.0</td>\n",
       "      <td>270</td>\n",
       "      <td>20</td>\n",
       "      <td>28</td>\n",
       "      <td>3575</td>\n",
       "      <td>108</td>\n",
       "      <td>186</td>\n",
       "    </tr>\n",
       "    <tr>\n",
       "      <th>4</th>\n",
       "      <td>Acura</td>\n",
       "      <td>3.5 RL 4dr</td>\n",
       "      <td>Sedan</td>\n",
       "      <td>Asia</td>\n",
       "      <td>Front</td>\n",
       "      <td>43755</td>\n",
       "      <td>39014</td>\n",
       "      <td>3.5</td>\n",
       "      <td>6.0</td>\n",
       "      <td>225</td>\n",
       "      <td>18</td>\n",
       "      <td>24</td>\n",
       "      <td>3880</td>\n",
       "      <td>115</td>\n",
       "      <td>197</td>\n",
       "    </tr>\n",
       "    <tr>\n",
       "      <th>5</th>\n",
       "      <td>Acura</td>\n",
       "      <td>3.5 RL w/Navigation 4dr</td>\n",
       "      <td>Sedan</td>\n",
       "      <td>Asia</td>\n",
       "      <td>Front</td>\n",
       "      <td>46100</td>\n",
       "      <td>41100</td>\n",
       "      <td>3.5</td>\n",
       "      <td>6.0</td>\n",
       "      <td>225</td>\n",
       "      <td>18</td>\n",
       "      <td>24</td>\n",
       "      <td>3893</td>\n",
       "      <td>115</td>\n",
       "      <td>197</td>\n",
       "    </tr>\n",
       "    <tr>\n",
       "      <th>6</th>\n",
       "      <td>Acura</td>\n",
       "      <td>NSX coupe 2dr manual S</td>\n",
       "      <td>Sports</td>\n",
       "      <td>Asia</td>\n",
       "      <td>Rear</td>\n",
       "      <td>89765</td>\n",
       "      <td>79978</td>\n",
       "      <td>3.2</td>\n",
       "      <td>6.0</td>\n",
       "      <td>290</td>\n",
       "      <td>17</td>\n",
       "      <td>24</td>\n",
       "      <td>3153</td>\n",
       "      <td>100</td>\n",
       "      <td>174</td>\n",
       "    </tr>\n",
       "    <tr>\n",
       "      <th>7</th>\n",
       "      <td>Audi</td>\n",
       "      <td>A4 1.8T 4dr</td>\n",
       "      <td>Sedan</td>\n",
       "      <td>Europe</td>\n",
       "      <td>Front</td>\n",
       "      <td>25940</td>\n",
       "      <td>23508</td>\n",
       "      <td>1.8</td>\n",
       "      <td>4.0</td>\n",
       "      <td>170</td>\n",
       "      <td>22</td>\n",
       "      <td>31</td>\n",
       "      <td>3252</td>\n",
       "      <td>104</td>\n",
       "      <td>179</td>\n",
       "    </tr>\n",
       "    <tr>\n",
       "      <th>8</th>\n",
       "      <td>Audi</td>\n",
       "      <td>A41.8T convertible 2dr</td>\n",
       "      <td>Sedan</td>\n",
       "      <td>Europe</td>\n",
       "      <td>Front</td>\n",
       "      <td>35940</td>\n",
       "      <td>32506</td>\n",
       "      <td>1.8</td>\n",
       "      <td>4.0</td>\n",
       "      <td>170</td>\n",
       "      <td>23</td>\n",
       "      <td>30</td>\n",
       "      <td>3638</td>\n",
       "      <td>105</td>\n",
       "      <td>180</td>\n",
       "    </tr>\n",
       "    <tr>\n",
       "      <th>9</th>\n",
       "      <td>Audi</td>\n",
       "      <td>A4 3.0 4dr</td>\n",
       "      <td>Sedan</td>\n",
       "      <td>Europe</td>\n",
       "      <td>Front</td>\n",
       "      <td>31840</td>\n",
       "      <td>28846</td>\n",
       "      <td>3.0</td>\n",
       "      <td>6.0</td>\n",
       "      <td>220</td>\n",
       "      <td>20</td>\n",
       "      <td>28</td>\n",
       "      <td>3462</td>\n",
       "      <td>104</td>\n",
       "      <td>179</td>\n",
       "    </tr>\n",
       "  </tbody>\n",
       "</table>\n",
       "</div>"
      ],
      "text/plain": [
       "    Make                    Model    Type  Origin DriveTrain   MSRP  Invoice  \\\n",
       "0  Acura                      MDX     SUV    Asia        All  36945    33337   \n",
       "1  Acura           RSX Type S 2dr   Sedan    Asia      Front  23820    21761   \n",
       "2  Acura                  TSX 4dr   Sedan    Asia      Front  26990    24647   \n",
       "3  Acura                   TL 4dr   Sedan    Asia      Front  33195    30299   \n",
       "4  Acura               3.5 RL 4dr   Sedan    Asia      Front  43755    39014   \n",
       "5  Acura  3.5 RL w/Navigation 4dr   Sedan    Asia      Front  46100    41100   \n",
       "6  Acura   NSX coupe 2dr manual S  Sports    Asia       Rear  89765    79978   \n",
       "7   Audi              A4 1.8T 4dr   Sedan  Europe      Front  25940    23508   \n",
       "8   Audi   A41.8T convertible 2dr   Sedan  Europe      Front  35940    32506   \n",
       "9   Audi               A4 3.0 4dr   Sedan  Europe      Front  31840    28846   \n",
       "\n",
       "   EngineSize  Cylinders  Horsepower  MPG_City  MPG_Highway  Weight  \\\n",
       "0         3.5        6.0         265        17           23    4451   \n",
       "1         2.0        4.0         200        24           31    2778   \n",
       "2         2.4        4.0         200        22           29    3230   \n",
       "3         3.2        6.0         270        20           28    3575   \n",
       "4         3.5        6.0         225        18           24    3880   \n",
       "5         3.5        6.0         225        18           24    3893   \n",
       "6         3.2        6.0         290        17           24    3153   \n",
       "7         1.8        4.0         170        22           31    3252   \n",
       "8         1.8        4.0         170        23           30    3638   \n",
       "9         3.0        6.0         220        20           28    3462   \n",
       "\n",
       "   Wheelbase  Length  \n",
       "0        106     189  \n",
       "1        101     172  \n",
       "2        105     183  \n",
       "3        108     186  \n",
       "4        115     197  \n",
       "5        115     197  \n",
       "6        100     174  \n",
       "7        104     179  \n",
       "8        105     180  \n",
       "9        104     179  "
      ]
     },
     "execution_count": 32,
     "metadata": {},
     "output_type": "execute_result"
    }
   ],
   "source": [
    "## Importing the Dataset\n",
    "\n",
    "cars = pd.read_csv(r\"C:\\Users\\KRISHNA\\Downloads\\cars.csv\")\n",
    "cars.head(10)"
   ]
  },
  {
   "cell_type": "markdown",
   "id": "ea26f407",
   "metadata": {},
   "source": [
    "## 1) Preprocessing"
   ]
  },
  {
   "cell_type": "code",
   "execution_count": 33,
   "id": "032384ef",
   "metadata": {},
   "outputs": [
    {
     "data": {
      "text/plain": [
       "Model                \n",
       "C320 4dr                 2\n",
       "C240 4dr                 2\n",
       "G35 4dr                  2\n",
       "3.5 RL 4dr               1\n",
       "Passat W8 4MOTION 4dr    1\n",
       "dtype: int64"
      ]
     },
     "execution_count": 33,
     "metadata": {},
     "output_type": "execute_result"
    }
   ],
   "source": [
    "## Getting the counts of the car models\n",
    "\n",
    "cars[['Model']].value_counts().head()"
   ]
  },
  {
   "cell_type": "code",
   "execution_count": null,
   "id": "63631c24",
   "metadata": {},
   "outputs": [
    {
     "data": {
      "text/plain": [
       "Make            object\n",
       "Model           object\n",
       "Type            object\n",
       "Origin          object\n",
       "DriveTrain      object\n",
       "MSRP             int64\n",
       "Invoice          int64\n",
       "EngineSize     float64\n",
       "Cylinders      float64\n",
       "Horsepower       int64\n",
       "MPG_City         int64\n",
       "MPG_Highway      int64\n",
       "Weight           int64\n",
       "Wheelbase        int64\n",
       "Length           int64\n",
       "dtype: object"
      ]
     },
     "execution_count": 34,
     "metadata": {},
     "output_type": "execute_result"
    }
   ],
   "source": [
    "## Getting the datatypes\n",
    "\n",
    "cars.dtypes"
   ]
  },
  {
   "cell_type": "code",
   "execution_count": null,
   "id": "4fa5ea61",
   "metadata": {},
   "outputs": [],
   "source": [
    "## Creating a new column 'Convertible' through data extraction from column 'Model'\n",
    "\n",
    "\n",
    "cars['Convertible'] = cars['Model'].apply(lambda x:1 if 'convertible' in x else 0)"
   ]
  },
  {
   "cell_type": "code",
   "execution_count": null,
   "id": "4088dd3e",
   "metadata": {},
   "outputs": [],
   "source": [
    "## Creating a new column 'Doors_2' through data extraction from column 'Model'\n",
    "\n",
    "\n",
    "cars['Doors_2'] = cars['Model'].apply(lambda x:1 if  '2dr' in x else 0)"
   ]
  },
  {
   "cell_type": "code",
   "execution_count": null,
   "id": "53377ce7",
   "metadata": {},
   "outputs": [],
   "source": [
    "## Extracting only the first word from every entry of Model Column\n",
    "\n",
    "cars['Model Name'] = cars['Model'].apply(lambda x:\" \".join(x.split()[0:1]))"
   ]
  },
  {
   "cell_type": "code",
   "execution_count": null,
   "id": "51e51cfb",
   "metadata": {},
   "outputs": [],
   "source": [
    "## Checking for missing values\n",
    "\n",
    "cars.isnull().sum()"
   ]
  },
  {
   "cell_type": "code",
   "execution_count": null,
   "id": "0aff6796",
   "metadata": {},
   "outputs": [],
   "source": [
    "## Checking the dimensions\n",
    "\n",
    "cars.shape"
   ]
  },
  {
   "cell_type": "code",
   "execution_count": null,
   "id": "ecde24a0",
   "metadata": {},
   "outputs": [],
   "source": [
    "## Checking the skewness of the data\n",
    "\n",
    "cars.skew()"
   ]
  },
  {
   "cell_type": "code",
   "execution_count": null,
   "id": "85bb9fff",
   "metadata": {},
   "outputs": [],
   "source": [
    "## Filling out the missing values \n",
    "\n",
    "cars['Cylinders'] = cars['Cylinders'].fillna(cars['Cylinders'].mode()[0])"
   ]
  },
  {
   "cell_type": "code",
   "execution_count": null,
   "id": "70dac5f0",
   "metadata": {
    "scrolled": true
   },
   "outputs": [],
   "source": [
    "## No Null Values Present\n",
    "\n",
    "cars.isnull().sum()"
   ]
  },
  {
   "cell_type": "markdown",
   "id": "bff54199",
   "metadata": {},
   "source": [
    "## 2) EDA"
   ]
  },
  {
   "cell_type": "code",
   "execution_count": null,
   "id": "87ce3d96",
   "metadata": {},
   "outputs": [],
   "source": [
    "## The Report shows that there are outliers present in all of the numerical columns"
   ]
  },
  {
   "cell_type": "code",
   "execution_count": null,
   "id": "be32bf6e",
   "metadata": {},
   "outputs": [],
   "source": [
    "## Also using Boxplot to display outliers\n",
    "\n",
    "plt.rcParams['figure.figsize'] = [10, 11.0]\n",
    "plt.rcParams['figure.autolayout'] = True\n",
    "\n",
    "ax =cars[['MSRP','Invoice','EngineSize','Cylinders', 'Horsepower', 'MPG_City','MPG_Highway','Weight','Wheelbase','Length']].plot(kind='box',title='boxplots')\n",
    "\n",
    "plt.show()"
   ]
  },
  {
   "cell_type": "code",
   "execution_count": null,
   "id": "0551e5d2",
   "metadata": {},
   "outputs": [],
   "source": [
    "## Checking the datatypes in order to change the datatypes to thier native formats\n",
    "\n",
    "cars.dtypes"
   ]
  },
  {
   "cell_type": "code",
   "execution_count": null,
   "id": "98a783ef",
   "metadata": {},
   "outputs": [],
   "source": [
    "## Changing the DataType of the following Column\n",
    "\n",
    "cars['Cylinders'] = cars['Cylinders'].astype('int64')"
   ]
  },
  {
   "cell_type": "code",
   "execution_count": null,
   "id": "d1782f98",
   "metadata": {},
   "outputs": [],
   "source": [
    "## Capping the Outliers from the numerical columns. As all the numerical columns are skewed. So IQR has been used to cap all the outliers\n",
    "\n",
    "\n",
    "num_col = ['MSRP', 'Invoice','EngineSize','Cylinders','Horsepower','MPG_City','MPG_Highway','Weight','Wheelbase','Length']\n",
    "\n",
    "for col in num_col:\n",
    "    q1 = cars[col].quantile(0.25)\n",
    "    q3 = cars[col].quantile(0.75)\n",
    "    \n",
    "    iqr = q3 - q1 \n",
    "    \n",
    "    upper_limit = q3 + 1.5 * iqr\n",
    "    lower_limit = q1 - 1.5 * iqr\n",
    "    \n",
    "    cars[col] = np.where(cars[col] > upper_limit,upper_limit,\n",
    "                        np.where(cars[col] < lower_limit,lower_limit, cars[col]))"
   ]
  },
  {
   "cell_type": "code",
   "execution_count": null,
   "id": "cc42902d",
   "metadata": {},
   "outputs": [],
   "source": [
    "## Removed outliers can be seen using the boxplot again\n",
    "\n",
    "\n",
    "plt.rcParams['figure.figsize'] = [10, 11.0]\n",
    "plt.rcParams['figure.autolayout'] = True\n",
    "\n",
    "ax =cars[['MSRP','Invoice','EngineSize','Cylinders', 'Horsepower', 'MPG_City','MPG_Highway','Weight','Wheelbase','Length']].plot(kind='box',title='boxplots')\n",
    "\n",
    "plt.show()"
   ]
  },
  {
   "cell_type": "code",
   "execution_count": null,
   "id": "4452249f",
   "metadata": {
    "scrolled": true
   },
   "outputs": [],
   "source": [
    "## Dropping unnecessary columns\n",
    "\n",
    "cars_df = cars.drop(columns=['Model','Invoice'])\n",
    "cars_df.head(10)"
   ]
  },
  {
   "cell_type": "code",
   "execution_count": null,
   "id": "39fb76a8",
   "metadata": {},
   "outputs": [],
   "source": [
    "## Changing the datatypes of the numerical columns to integer\n",
    "\n",
    "\n",
    "num_col1 = ['Cylinders','Horsepower','MPG_City','MPG_Highway','Weight','Wheelbase','Length','MSRP']\n",
    "\n",
    "for col in num_col1:\n",
    "    cars_df[col]=cars_df[col].astype('int64')"
   ]
  },
  {
   "cell_type": "code",
   "execution_count": null,
   "id": "23692537",
   "metadata": {},
   "outputs": [],
   "source": [
    "cars_df.dtypes"
   ]
  },
  {
   "cell_type": "code",
   "execution_count": null,
   "id": "019c9949",
   "metadata": {},
   "outputs": [],
   "source": [
    "## Transferring this Preproceesed data to a new variable in order to prevent any losses\n",
    "\n",
    "cars_df.to_csv('cars cleaned dataset.csv')"
   ]
  },
  {
   "cell_type": "code",
   "execution_count": null,
   "id": "ddaf2e16",
   "metadata": {},
   "outputs": [],
   "source": [
    "car_final = pd.read_csv('cars cleaned dataset.csv')\n",
    "car_final.head()"
   ]
  },
  {
   "cell_type": "code",
   "execution_count": null,
   "id": "1fa8c693",
   "metadata": {},
   "outputs": [],
   "source": [
    "## Creating a new dataframe\n",
    "\n",
    "car_final = car_final.drop(columns = ['Unnamed: 0'])\n",
    "car_final.head()"
   ]
  },
  {
   "cell_type": "code",
   "execution_count": null,
   "id": "c5a83c73",
   "metadata": {},
   "outputs": [],
   "source": [
    "## Getting information about the data\n",
    "## All the values are accounted for\n",
    "\n",
    "\n",
    "car_final.info()"
   ]
  },
  {
   "cell_type": "markdown",
   "id": "9c7bb541",
   "metadata": {},
   "source": [
    "## Model Building"
   ]
  },
  {
   "cell_type": "code",
   "execution_count": null,
   "id": "3968ab21",
   "metadata": {},
   "outputs": [],
   "source": [
    "## Creating a x and y variables\n",
    "\n",
    "y = car_final[['MSRP']]\n",
    "\n",
    "x =car_final.drop(columns = ['MSRP'])"
   ]
  },
  {
   "cell_type": "code",
   "execution_count": null,
   "id": "db71fad0",
   "metadata": {},
   "outputs": [],
   "source": [
    "## Creating train and test datasets from x and y using train-test-split\n",
    "\n",
    "from sklearn.model_selection import train_test_split\n",
    "\n",
    "x_train,x_test,y_train,y_test = train_test_split(x,y,train_size=0.8,random_state=0)"
   ]
  },
  {
   "cell_type": "code",
   "execution_count": null,
   "id": "9293c777",
   "metadata": {},
   "outputs": [],
   "source": [
    "## Importing the Libraries for model building\n",
    "\n",
    "from sklearn.ensemble import RandomForestRegressor\n",
    "from sklearn.compose import ColumnTransformer\n",
    "from sklearn.pipeline import Pipeline\n",
    "from sklearn.preprocessing import OneHotEncoder\n",
    "from sklearn.metrics import r2_score,mean_absolute_error\n",
    "from sklearn.metrics import accuracy_score\n",
    "\n",
    "from sklearn import metrics"
   ]
  },
  {
   "cell_type": "code",
   "execution_count": null,
   "id": "743931a7",
   "metadata": {},
   "outputs": [],
   "source": [
    "## Fitting the model using pipeline and getting the R-SQ value for the model\n",
    "\n",
    "\n",
    "step1 = ColumnTransformer(transformers=[('col_t',OneHotEncoder(handle_unknown='ignore',sparse=False),[0,1,2,3,14])])\n",
    "\n",
    "step2 = RandomForestRegressor(n_estimators=500,random_state=42,max_depth=50)\n",
    "\n",
    "pipe4 = Pipeline([('step1',step1),('step2',step2)])\n",
    "\n",
    "pipe4.fit(x,y)\n",
    "\n",
    "y_pred = pipe4.predict(x_test)\n",
    "\n",
    "print('R2 score',r2_score(y_test,y_pred) *100 )\n",
    "print('MAE',mean_absolute_error(y_test,y_pred))\n",
    "\n"
   ]
  },
  {
   "cell_type": "code",
   "execution_count": null,
   "id": "42f4eea7",
   "metadata": {},
   "outputs": [],
   "source": [
    "## Using Pickle to dump the model\n",
    "\n",
    "import pickle\n",
    "\n",
    "pickle.dump(car_final,open('Df.pkl','wb'))\n",
    "pickle.dump(pipe4,open('Model1.pkl','wb'))"
   ]
  }
 ],
 "metadata": {
  "kernelspec": {
   "display_name": "Python 3 (ipykernel)",
   "language": "python",
   "name": "python3"
  },
  "language_info": {
   "codemirror_mode": {
    "name": "ipython",
    "version": 3
   },
   "file_extension": ".py",
   "mimetype": "text/x-python",
   "name": "python",
   "nbconvert_exporter": "python",
   "pygments_lexer": "ipython3",
   "version": "3.9.13"
  }
 },
 "nbformat": 4,
 "nbformat_minor": 5
}
